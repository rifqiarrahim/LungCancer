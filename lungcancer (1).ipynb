{
  "nbformat": 4,
  "nbformat_minor": 0,
  "metadata": {
    "colab": {
      "name": "lungcancer.ipynb",
      "provenance": [],
      "collapsed_sections": []
    },
    "kernelspec": {
      "name": "python3",
      "display_name": "Python 3"
    },
    "language_info": {
      "name": "python"
    }
  },
  "cells": [
    {
      "cell_type": "code",
      "metadata": {
        "colab": {
          "base_uri": "https://localhost:8080/"
        },
        "id": "n1Y6YxBYiBPa",
        "outputId": "77801ed9-0db2-426c-f24d-5cdf8fe38819"
      },
      "source": [
        "import tensorflow as tf\n",
        "print(tf.__version__)"
      ],
      "execution_count": null,
      "outputs": [
        {
          "output_type": "stream",
          "name": "stdout",
          "text": [
            "2.6.0\n"
          ]
        }
      ]
    },
    {
      "cell_type": "code",
      "metadata": {
        "colab": {
          "base_uri": "https://localhost:8080/"
        },
        "id": "FG8XsqW6OBLp",
        "outputId": "270aba95-3cd3-430c-f303-f6b5978b4756"
      },
      "source": [
        "from google.colab import drive\n",
        "drive.mount('/content/drive')"
      ],
      "execution_count": null,
      "outputs": [
        {
          "output_type": "stream",
          "name": "stdout",
          "text": [
            "Mounted at /content/drive\n"
          ]
        }
      ]
    },
    {
      "cell_type": "code",
      "metadata": {
        "id": "mhzlSFhf6rMy"
      },
      "source": [
        "import os\n",
        "base_dir = '/content/drive/MyDrive/datasets/lung_image_sets'"
      ],
      "execution_count": null,
      "outputs": []
    },
    {
      "cell_type": "code",
      "metadata": {
        "colab": {
          "base_uri": "https://localhost:8080/"
        },
        "id": "-iwa4Gra7lVV",
        "outputId": "f7ee3640-aa85-4359-ee14-948dfb54f22a"
      },
      "source": [
        "os.listdir(base_dir)"
      ],
      "execution_count": null,
      "outputs": [
        {
          "output_type": "execute_result",
          "data": {
            "text/plain": [
              "['lung_scc', 'lung_n', 'lung_aca']"
            ]
          },
          "metadata": {},
          "execution_count": 4
        }
      ]
    },
    {
      "cell_type": "code",
      "metadata": {
        "colab": {
          "base_uri": "https://localhost:8080/"
        },
        "id": "tcHI1ule7uQx",
        "outputId": "6182add8-07ef-4595-a558-06f9e4eb40a1"
      },
      "source": [
        "from tensorflow.keras.preprocessing.image import ImageDataGenerator\n",
        " \n",
        "train_datagen = ImageDataGenerator(\n",
        "                    rescale=1./255,\n",
        "                    rotation_range=20,\n",
        "                    horizontal_flip=True,\n",
        "                    shear_range = 0.2,\n",
        "                    fill_mode = 'nearest',\n",
        "                    validation_split=0.2)\n",
        "test_datagen = ImageDataGenerator(\n",
        "                    rescale=1./255,\n",
        "                    validation_split=0.2)\n",
        "train_generator = train_datagen.flow_from_directory(base_dir,\n",
        "                                                    target_size=(150,150),\n",
        "                                                    seed=42,\n",
        "                                                    subset='training')\n",
        "validation_generator = test_datagen.flow_from_directory(base_dir,\n",
        "                                                        target_size=(150,150),\n",
        "                                                        seed=42,\n",
        "                                                        subset='validation')"
      ],
      "execution_count": null,
      "outputs": [
        {
          "output_type": "stream",
          "name": "stdout",
          "text": [
            "Found 12000 images belonging to 3 classes.\n",
            "Found 3000 images belonging to 3 classes.\n"
          ]
        }
      ]
    },
    {
      "cell_type": "code",
      "metadata": {
        "id": "wkl4i5zOBzyA"
      },
      "source": [
        "model = tf.keras.models.Sequential([\n",
        "    tf.keras.layers.Conv2D(32, (3,3), activation='relu', input_shape=(150, 150, 3)),\n",
        "    tf.keras.layers.MaxPooling2D(2, 2),\n",
        "    tf.keras.layers.Conv2D(64, (3,3), activation='relu'),\n",
        "    tf.keras.layers.MaxPooling2D(2,2),\n",
        "    tf.keras.layers.Conv2D(128, (3,3), activation='relu'),\n",
        "    tf.keras.layers.MaxPooling2D(2,2),\n",
        "    tf.keras.layers.Conv2D(512, (3,3), activation='relu'),\n",
        "    tf.keras.layers.MaxPooling2D(2,2),\n",
        "    tf.keras.layers.Flatten(),\n",
        "    tf.keras.layers.Dense(128, activation='relu'),\n",
        "    tf.keras.layers.Dense(3, activation='softmax')\n",
        "])"
      ],
      "execution_count": null,
      "outputs": []
    },
    {
      "cell_type": "code",
      "metadata": {
        "id": "MQw9ncIdB5Sj"
      },
      "source": [
        "model.compile(loss = 'categorical_crossentropy',\n",
        "              optimizer = 'adam',\n",
        "              metrics=['accuracy'])"
      ],
      "execution_count": null,
      "outputs": []
    },
    {
      "cell_type": "code",
      "metadata": {
        "id": "Ys8NcXWEB7l1"
      },
      "source": [
        "desired_acc = 0.92\n",
        "class myCallback(tf.keras.callbacks.Callback):\n",
        "  def on_epoch_end(self, epochs, logs={}):\n",
        "    if(logs.get('accuracy')>desired_acc and logs.get('val_accuracy')>desired_acc):\n",
        "      print('Reached 92% accuracy, training stop!')\n",
        "      self.model.stop_training = True\n",
        "\n",
        "callbacks = myCallback()"
      ],
      "execution_count": null,
      "outputs": []
    },
    {
      "cell_type": "code",
      "metadata": {
        "colab": {
          "base_uri": "https://localhost:8080/"
        },
        "id": "V2wYr8CeCG1R",
        "outputId": "aa0ea05e-5e41-483c-9356-bef4baf7af36"
      },
      "source": [
        "history = model.fit(\n",
        "      train_generator,\n",
        "      steps_per_epoch=35,  # berapa batch yang akan dieksekusi pada setiap epoch\n",
        "      epochs=50, # tambahkan eposchs jika akurasi model belum optimal\n",
        "      validation_data=validation_generator, # menampilkan akurasi pengujian data validasi\n",
        "      validation_steps=25,  # berapa batch yang akan dieksekusi pada setiap epoch\n",
        "      verbose=2,\n",
        "      callbacks=[callbacks])"
      ],
      "execution_count": null,
      "outputs": [
        {
          "output_type": "stream",
          "name": "stdout",
          "text": [
            "Epoch 1/50\n",
            "35/35 - 497s - loss: 0.8341 - accuracy: 0.5830 - val_loss: 0.5198 - val_accuracy: 0.7950\n",
            "Epoch 2/50\n",
            "35/35 - 417s - loss: 0.5098 - accuracy: 0.7750 - val_loss: 0.6820 - val_accuracy: 0.6725\n",
            "Epoch 3/50\n",
            "35/35 - 347s - loss: 0.4480 - accuracy: 0.8080 - val_loss: 0.5334 - val_accuracy: 0.7425\n",
            "Epoch 4/50\n",
            "35/35 - 307s - loss: 0.3868 - accuracy: 0.8375 - val_loss: 0.3594 - val_accuracy: 0.8625\n",
            "Epoch 5/50\n",
            "35/35 - 264s - loss: 0.3608 - accuracy: 0.8679 - val_loss: 0.3491 - val_accuracy: 0.8650\n",
            "Epoch 6/50\n",
            "35/35 - 245s - loss: 0.3329 - accuracy: 0.8732 - val_loss: 0.3603 - val_accuracy: 0.8375\n",
            "Epoch 7/50\n",
            "35/35 - 221s - loss: 0.3121 - accuracy: 0.8804 - val_loss: 0.2624 - val_accuracy: 0.8938\n",
            "Epoch 8/50\n",
            "35/35 - 211s - loss: 0.2875 - accuracy: 0.8929 - val_loss: 0.2553 - val_accuracy: 0.9000\n",
            "Epoch 9/50\n",
            "35/35 - 178s - loss: 0.2952 - accuracy: 0.8750 - val_loss: 0.2550 - val_accuracy: 0.9050\n",
            "Epoch 10/50\n",
            "35/35 - 173s - loss: 0.3226 - accuracy: 0.8670 - val_loss: 0.3057 - val_accuracy: 0.8925\n",
            "Epoch 11/50\n",
            "35/35 - 160s - loss: 0.3080 - accuracy: 0.8839 - val_loss: 0.2742 - val_accuracy: 0.8800\n",
            "Epoch 12/50\n",
            "35/35 - 150s - loss: 0.2741 - accuracy: 0.8804 - val_loss: 0.2204 - val_accuracy: 0.9175\n",
            "Epoch 13/50\n",
            "35/35 - 137s - loss: 0.2557 - accuracy: 0.8982 - val_loss: 0.2334 - val_accuracy: 0.8963\n",
            "Epoch 14/50\n",
            "35/35 - 131s - loss: 0.2582 - accuracy: 0.8964 - val_loss: 0.2449 - val_accuracy: 0.8875\n",
            "Epoch 15/50\n",
            "35/35 - 121s - loss: 0.2878 - accuracy: 0.8830 - val_loss: 0.2617 - val_accuracy: 0.8850\n",
            "Epoch 16/50\n",
            "35/35 - 122s - loss: 0.2406 - accuracy: 0.8973 - val_loss: 0.2126 - val_accuracy: 0.9087\n",
            "Epoch 17/50\n",
            "35/35 - 116s - loss: 0.1945 - accuracy: 0.9268 - val_loss: 0.1736 - val_accuracy: 0.9337\n",
            "Reached 92% accuracy, training stop!\n"
          ]
        }
      ]
    },
    {
      "cell_type": "code",
      "metadata": {
        "colab": {
          "base_uri": "https://localhost:8080/",
          "height": 295
        },
        "id": "_7tvCSqmBzGS",
        "outputId": "84394f86-17eb-47f9-ad37-fa056fa34156"
      },
      "source": [
        "import matplotlib.pyplot as plt\n",
        "plt.plot(history.history['accuracy'])\n",
        "plt.plot(history.history['val_accuracy'])\n",
        "plt.title('Akurasi Model')\n",
        "plt.ylabel('accuracy')\n",
        "plt.xlabel('epoch')\n",
        "plt.legend(['train', 'test'], loc='upper left')\n",
        "plt.show()"
      ],
      "execution_count": null,
      "outputs": [
        {
          "output_type": "display_data",
          "data": {
            "image/png": "[encoded data removed]",
            "text/plain": [
              "<Figure size 432x288 with 1 Axes>"
            ]
          },
          "metadata": {
            "needs_background": "light"
          }
        }
      ]
    },
    {
      "cell_type": "code",
      "metadata": {
        "colab": {
          "base_uri": "https://localhost:8080/",
          "height": 295
        },
        "id": "rRfRZXrqzdjK",
        "outputId": "6b03431a-4a7f-427c-ec0e-a0484b32b213"
      },
      "source": [
        "plt.plot(history.history['loss'])\n",
        "plt.plot(history.history['val_loss'])\n",
        "plt.title('Loss Model')\n",
        "plt.ylabel('loss')\n",
        "plt.xlabel('epoch')\n",
        "plt.legend(['train', 'test'], loc='upper left')\n",
        "plt.show()"
      ],
      "execution_count": null,
      "outputs": [
        {
          "output_type": "display_data",
          "data": {
            "image/png": "[encoded data removed]",
            "text/plain": [
              "<Figure size 432x288 with 1 Axes>"
            ]
          },
          "metadata": {
            "needs_background": "light"
          }
        }
      ]
    },
    {
      "cell_type": "code",
      "metadata": {
        "colab": {
          "base_uri": "https://localhost:8080/"
        },
        "id": "OOeuXdr3bMzr",
        "outputId": "bafb2412-ed42-493c-ac4c-12b10bf1ec22"
      },
      "source": [
        "# Konversi model.\n",
        "converter = tf.lite.TFLiteConverter.from_keras_model(model)\n",
        "tflite_model = converter.convert()"
      ],
      "execution_count": null,
      "outputs": [
        {
          "output_type": "stream",
          "name": "stdout",
          "text": [
            "INFO:tensorflow:Assets written to: /tmp/tmpb6doov01/assets\n"
          ]
        }
      ]
    },
    {
      "cell_type": "code",
      "metadata": {
        "id": "I7K2CHF4bTAv"
      },
      "source": [
        "with tf.io.gfile.GFile('model.tflite', 'wb') as f:\n",
        "  f.write(tflite_model)"
      ],
      "execution_count": null,
      "outputs": []
    }
  ]
}